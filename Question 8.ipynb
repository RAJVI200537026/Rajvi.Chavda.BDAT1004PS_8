{
 "cells": [
  {
   "cell_type": "code",
   "execution_count": 13,
   "id": "eecc0fc5",
   "metadata": {},
   "outputs": [
    {
     "name": "stdout",
     "output_type": "stream",
     "text": [
      "1.77643\n",
      "102.37414\n"
     ]
    }
   ],
   "source": [
    "def curconv(currency, amount):\n",
    "    with open(\"currencies.txt\", \"r\") as file:\n",
    "        for line in file:\n",
    "            data = line.split()\n",
    "            if data[0] == currency:\n",
    "                exchange_rate = float(data[1])\n",
    "                converted_amount = amount * exchange_rate\n",
    "                return converted_amount\n",
    "        return \"Currency not found\"\n",
    "\n",
    "\n",
    "usd = curconv('INR', 100)\n",
    "print(usd)  \n",
    "\n",
    "usd = curconv('CHF', 100)\n",
    "print(usd)"
   ]
  },
  {
   "cell_type": "code",
   "execution_count": null,
   "id": "d281d1a1",
   "metadata": {},
   "outputs": [],
   "source": []
  },
  {
   "cell_type": "code",
   "execution_count": null,
   "id": "d27900dd",
   "metadata": {},
   "outputs": [],
   "source": []
  }
 ],
 "metadata": {
  "kernelspec": {
   "display_name": "Python 3 (ipykernel)",
   "language": "python",
   "name": "python3"
  },
  "language_info": {
   "codemirror_mode": {
    "name": "ipython",
    "version": 3
   },
   "file_extension": ".py",
   "mimetype": "text/x-python",
   "name": "python",
   "nbconvert_exporter": "python",
   "pygments_lexer": "ipython3",
   "version": "3.10.9"
  }
 },
 "nbformat": 4,
 "nbformat_minor": 5
}
